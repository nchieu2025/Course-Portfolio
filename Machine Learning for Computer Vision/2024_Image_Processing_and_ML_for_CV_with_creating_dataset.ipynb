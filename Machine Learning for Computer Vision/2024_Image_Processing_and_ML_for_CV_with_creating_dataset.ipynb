{
  "cells": [
    {
      "cell_type": "markdown",
      "metadata": {
        "id": "aEyfS2XbYBBu"
      },
      "source": [
        "# Image Classification with OpenCV and Scikit-Learn\n",
        "\n",
        "In this notebook, we will explore the basics of image processing using OpenCV and build a simple image classifier using Scikit-Learn. We will perform the following steps:\n",
        "1. Load and preprocess images using OpenCV.\n",
        "2. Extract features from the images.\n",
        "3. Train a machine learning model on the extracted features.\n",
        "4. Evaluate the model's performance.\n",
        "\n",
        "## Step 1: Importing Libraries\n",
        "\n",
        "First, we need to import the necessary libraries.\n"
      ]
    },
    {
      "cell_type": "markdown",
      "source": [],
      "metadata": {
        "id": "9sHxSqE-X05Z"
      }
    },
    {
      "cell_type": "code",
      "execution_count": null,
      "metadata": {
        "id": "VYhYnIVqYBBw"
      },
      "outputs": [],
      "source": [
        "# Importing necessary libraries\n",
        "import cv2\n",
        "import numpy as np\n",
        "import os  # Import the os module\n",
        "from sklearn.model_selection import train_test_split\n",
        "from sklearn.svm import SVC\n",
        "from sklearn.metrics import classification_report, accuracy_score\n",
        "import matplotlib.pyplot as plt\n"
      ]
    },
    {
      "cell_type": "markdown",
      "metadata": {
        "id": "zxGOcHZCYBBx"
      },
      "source": [
        "## Step 2: Preparing the Dataset\n",
        "\n",
        "For this exercise, we need a dataset of images. We will create two folders: `cats` and `dogs`, each containing images of cats and dogs, respectively.\n",
        "\n",
        "### Number of Images\n",
        "\n",
        "To train a basic machine learning model, you should have at least 100 images in each folder (cats and dogs). However, the more images you have, the better your model is likely to perform. Ideally, aim for 500-1000 images per category for better accuracy.\n",
        "\n",
        "### Folder Structure\n",
        "\n",
        "The folder structure should look like this:\n",
        "\n",
        "data/\n",
        "cats/\n",
        "dogs/\n",
        "data/\n",
        "\n",
        "cats/\n",
        "cat1.jpg\n",
        "cat2.jpg\n",
        "...\n",
        "dogs/\n",
        "dog1.jpg\n",
        "dog2.jpg"
      ]
    },
    {
      "cell_type": "code",
      "source": [
        "# Loading the dataset\n",
        "!wget --no-check-certificate \\\n",
        "    \"https://download.microsoft.com/download/3/E/1/3E1C3F21-ECDB-4869-8368-6DEBA77B919F/kagglecatsanddogs_5340.zip\" \\\n",
        "    -O \"/tmp/cats-and-dogs.zip\"\n",
        "\n",
        "import zipfile\n",
        "\n",
        "local_zip = '/tmp/cats-and-dogs.zip'\n",
        "zip_ref   = zipfile.ZipFile(local_zip, 'r')\n",
        "zip_ref.extractall('/tmp')\n",
        "zip_ref.close()"
      ],
      "metadata": {
        "colab": {
          "base_uri": "https://localhost:8080/"
        },
        "id": "E58-hmRy3su0",
        "outputId": "c51ec669-34a3-4245-b32c-52b964b8461f"
      },
      "execution_count": null,
      "outputs": [
        {
          "output_type": "stream",
          "name": "stdout",
          "text": [
            "--2025-02-22 23:05:19--  https://download.microsoft.com/download/3/E/1/3E1C3F21-ECDB-4869-8368-6DEBA77B919F/kagglecatsanddogs_5340.zip\n",
            "Resolving download.microsoft.com (download.microsoft.com)... 23.47.166.62, 2600:1408:c400:1680::317f, 2600:1408:c400:168a::317f\n",
            "Connecting to download.microsoft.com (download.microsoft.com)|23.47.166.62|:443... connected.\n",
            "HTTP request sent, awaiting response... 200 OK\n",
            "Length: 824887076 (787M) [application/octet-stream]\n",
            "Saving to: ‘/tmp/cats-and-dogs.zip’\n",
            "\n",
            "/tmp/cats-and-dogs. 100%[===================>] 786.67M   110MB/s    in 15s     \n",
            "\n",
            "2025-02-22 23:05:35 (52.1 MB/s) - ‘/tmp/cats-and-dogs.zip’ saved [824887076/824887076]\n",
            "\n"
          ]
        }
      ]
    },
    {
      "cell_type": "code",
      "source": [
        "source_path = '/tmp/PetImages'\n",
        "\n",
        "source_path_dogs = os.path.join(source_path, 'Dog')\n",
        "source_path_cats = os.path.join(source_path, 'Cat')\n",
        "\n",
        "# Deletes all non-image files (there are two .db files bundled into the dataset)\n",
        "!find /tmp/PetImages/ -type f ! -name \"*.jpg\" -exec rm {} +\n",
        "\n",
        "# os.listdir returns a list containing all files under the given path\n",
        "print(f\"There are {len(os.listdir(source_path_dogs))} images of dogs.\")\n",
        "print(f\"There are {len(os.listdir(source_path_cats))} images of cats.\")\n",
        "\n",
        "\n",
        "\n",
        "data_dir_path = 'dogs_vs_cats_zip'"
      ],
      "metadata": {
        "colab": {
          "base_uri": "https://localhost:8080/"
        },
        "id": "A804Wusn6ufk",
        "outputId": "ede7acfe-2c4a-4aed-c97b-dcc9246cbbc5"
      },
      "execution_count": null,
      "outputs": [
        {
          "output_type": "stream",
          "name": "stdout",
          "text": [
            "There are 12500 images of dogs.\n",
            "There are 12500 images of cats.\n"
          ]
        }
      ]
    },
    {
      "cell_type": "markdown",
      "metadata": {
        "id": "xmh1i-PlYBBx"
      },
      "source": [
        "\n",
        "Ensure that the images are named appropriately and stored in the correct folders.\n"
      ]
    },
    {
      "cell_type": "markdown",
      "metadata": {
        "id": "UD7fw3iDYBBx"
      },
      "source": [
        "## Step 3: Loading and Preprocessing Images\n",
        "\n",
        "We will load the images, convert them to grayscale, resize them to a uniform size, and flatten them into a 1D array to use as features for our model.\n",
        "\n"
      ]
    },
    {
      "cell_type": "code",
      "execution_count": null,
      "metadata": {
        "id": "kSE0VDwdYBBx",
        "colab": {
          "base_uri": "https://localhost:8080/",
          "height": 1000
        },
        "outputId": "9d086825-cf89-4d4b-97ce-4e253ef3c382"
      },
      "outputs": [
        {
          "output_type": "stream",
          "name": "stdout",
          "text": [
            "Skipping unreadable file: /tmp/PetImages/Dog/2384.jpg\n",
            "Skipping unreadable file: /tmp/PetImages/Dog/8730.jpg\n",
            "Skipping unreadable file: /tmp/PetImages/Dog/11675.jpg\n",
            "Skipping unreadable file: /tmp/PetImages/Dog/6059.jpg\n",
            "Skipping unreadable file: /tmp/PetImages/Dog/7133.jpg\n",
            "Skipping unreadable file: /tmp/PetImages/Dog/5736.jpg\n",
            "Skipping unreadable file: /tmp/PetImages/Dog/11849.jpg\n",
            "Skipping unreadable file: /tmp/PetImages/Dog/7459.jpg\n",
            "Skipping unreadable file: /tmp/PetImages/Dog/7969.jpg\n",
            "Skipping unreadable file: /tmp/PetImages/Dog/6238.jpg\n",
            "Skipping unreadable file: /tmp/PetImages/Dog/6718.jpg\n",
            "Skipping unreadable file: /tmp/PetImages/Dog/3136.jpg\n",
            "Skipping unreadable file: /tmp/PetImages/Dog/2877.jpg\n",
            "Skipping unreadable file: /tmp/PetImages/Dog/3588.jpg\n",
            "Skipping unreadable file: /tmp/PetImages/Dog/7369.jpg\n",
            "Skipping unreadable file: /tmp/PetImages/Dog/5604.jpg\n",
            "Skipping unreadable file: /tmp/PetImages/Dog/10158.jpg\n",
            "Skipping unreadable file: /tmp/PetImages/Dog/10747.jpg\n",
            "Skipping unreadable file: /tmp/PetImages/Dog/4367.jpg\n",
            "Skipping unreadable file: /tmp/PetImages/Dog/11410.jpg\n",
            "Skipping unreadable file: /tmp/PetImages/Dog/9188.jpg\n",
            "Skipping unreadable file: /tmp/PetImages/Dog/10401.jpg\n",
            "Skipping unreadable file: /tmp/PetImages/Dog/1308.jpg\n",
            "Skipping unreadable file: /tmp/PetImages/Dog/3288.jpg\n",
            "Skipping unreadable file: /tmp/PetImages/Dog/10797.jpg\n",
            "Skipping unreadable file: /tmp/PetImages/Dog/2688.jpg\n",
            "Skipping unreadable file: /tmp/PetImages/Dog/11702.jpg\n",
            "Skipping unreadable file: /tmp/PetImages/Dog/11853.jpg\n",
            "Skipping unreadable file: /tmp/PetImages/Dog/7112.jpg\n",
            "Skipping unreadable file: /tmp/PetImages/Dog/1866.jpg\n",
            "Skipping unreadable file: /tmp/PetImages/Cat/7968.jpg\n",
            "Skipping unreadable file: /tmp/PetImages/Cat/10404.jpg\n",
            "Skipping unreadable file: /tmp/PetImages/Cat/5553.jpg\n",
            "Skipping unreadable file: /tmp/PetImages/Cat/2663.jpg\n",
            "Skipping unreadable file: /tmp/PetImages/Cat/3300.jpg\n",
            "Skipping unreadable file: /tmp/PetImages/Cat/9778.jpg\n",
            "Skipping unreadable file: /tmp/PetImages/Cat/850.jpg\n",
            "Skipping unreadable file: /tmp/PetImages/Cat/3491.jpg\n",
            "Skipping unreadable file: /tmp/PetImages/Cat/7978.jpg\n",
            "Skipping unreadable file: /tmp/PetImages/Cat/666.jpg\n",
            "Skipping unreadable file: /tmp/PetImages/Cat/936.jpg\n",
            "Skipping unreadable file: /tmp/PetImages/Cat/11935.jpg\n",
            "Skipping unreadable file: /tmp/PetImages/Cat/11874.jpg\n",
            "Skipping unreadable file: /tmp/PetImages/Cat/8470.jpg\n",
            "Skipping unreadable file: /tmp/PetImages/Cat/9565.jpg\n",
            "Skipping unreadable file: /tmp/PetImages/Cat/11565.jpg\n",
            "Skipping unreadable file: /tmp/PetImages/Cat/10125.jpg\n",
            "Skipping unreadable file: /tmp/PetImages/Cat/10501.jpg\n",
            "Skipping unreadable file: /tmp/PetImages/Cat/9171.jpg\n",
            "Skipping unreadable file: /tmp/PetImages/Cat/140.jpg\n",
            "Skipping unreadable file: /tmp/PetImages/Cat/4833.jpg\n",
            "Skipping unreadable file: /tmp/PetImages/Cat/660.jpg\n",
            "Skipping unreadable file: /tmp/PetImages/Cat/11210.jpg\n",
            "Skipping unreadable file: /tmp/PetImages/Cat/10820.jpg\n"
          ]
        },
        {
          "output_type": "display_data",
          "data": {
            "text/plain": [
              "<Figure size 640x480 with 1 Axes>"
            ],
            "image/png": "[encoded data removed]"
          },
          "metadata": {}
        }
      ],
      "source": [
        "import os\n",
        "import cv2\n",
        "import numpy as np\n",
        "import matplotlib.pyplot as plt\n",
        "\n",
        "# Function to load and preprocess images\n",
        "def load_images(dogs_vs_cats):\n",
        "    images = []  # Initialize as empty list\n",
        "    labels = []  # Initialize as empty list\n",
        "\n",
        "    for label in os.listdir(dogs_vs_cats):\n",
        "        label_path = os.path.join(dogs_vs_cats, label)\n",
        "        if not os.path.isdir(label_path):  # Ensure it's a directory\n",
        "            continue\n",
        "\n",
        "        if label == 'Cat': # Changed from 'cats' to 'Cat' to match folder name\n",
        "            label_id = 0  # Assign 0 for cats\n",
        "        elif label == 'Dog': # Changed from 'dogs' to 'Dog' to match folder name\n",
        "            label_id = 1  # Assign 1 for dogs\n",
        "        else:\n",
        "            continue  # Ignore other folders/files\n",
        "\n",
        "        for filename in os.listdir(label_path):\n",
        "            img_path = os.path.join(label_path, filename)\n",
        "\n",
        "            try:\n",
        "                img = cv2.imread(img_path, cv2.IMREAD_GRAYSCALE)  # Load in grayscale\n",
        "                if img is None:\n",
        "                    print(f\"Skipping unreadable file: {img_path}\")\n",
        "                    continue  # Skip unreadable files\n",
        "\n",
        "                img = cv2.resize(img, (64, 64))  # Resize to 64x64\n",
        "                images.append(img.flatten())  # Flatten the image\n",
        "                labels.append(label_id)  # Append label (0 or 1)\n",
        "            except Exception as e:\n",
        "                print(f\"Error processing {img_path}: {e}\")\n",
        "\n",
        "    return np.array(images), np.array(labels)\n",
        "\n",
        "# The downloaded dataset is extracted to '/tmp/PetImages'\n",
        "dogs_vs_cats = '/tmp/PetImages'  # Changed from 'data' to '/tmp/PetImages'\n",
        "X, y = load_images(dogs_vs_cats)\n",
        "\n",
        "# Display a sample image\n",
        "if len(X) > 0:  # Check if images were loaded\n",
        "    plt.imshow(X[0].reshape(64, 64), cmap='gray')  # Display first image\n",
        "    plt.title(f\"Sample Image - Label: {'Cat' if y[0] == 0 else 'Dog'}\")\n",
        "    plt.show()\n",
        "else:\n",
        "    print(\"No images were loaded. Check the dataset path and structure.\")"
      ]
    },
    {
      "cell_type": "markdown",
      "metadata": {
        "id": "j38lyX1eYBBx"
      },
      "source": [
        "## Step 4: Splitting the Data\n",
        "\n",
        "We will split the data into training and testing sets using the `train_test_split` function from Scikit-Learn.\n"
      ]
    },
    {
      "cell_type": "code",
      "execution_count": null,
      "metadata": {
        "id": "d1TnQSARYBBy",
        "colab": {
          "base_uri": "https://localhost:8080/"
        },
        "outputId": "2d11bae8-04b8-4962-fd86-722a6e575641"
      },
      "outputs": [
        {
          "output_type": "stream",
          "name": "stdout",
          "text": [
            "Training set size: (19956, 4096)\n",
            "Testing set size: (4990, 4096)\n"
          ]
        }
      ],
      "source": [
        "# Split the data into training and testing sets\n",
        "X_train, X_test, y_train, y_test = train_test_split(X, y, test_size=0.2, random_state=42)\n",
        "\n",
        "print(\"Training set size:\", X_train.shape)\n",
        "print(\"Testing set size:\", X_test.shape)\n"
      ]
    },
    {
      "cell_type": "markdown",
      "metadata": {
        "id": "3akq2423YBBy"
      },
      "source": [
        "## Step 3: Training a Machine Learning Model\n",
        "\n",
        "### What is SVM (Support Vector Machine)?\n",
        "\n",
        "Support Vector Machine (SVM) is a supervised machine learning algorithm that can be used for both classification and regression tasks. However, it is mostly used for classification problems. The objective of the SVM algorithm is to find a hyperplane in an N-dimensional space (N is the number of features) that distinctly classifies the data points.\n",
        "\n",
        "### Key Concepts:\n",
        "\n",
        "- **Hyperplane:** A decision boundary that separates different classes in the feature space. In 2D, it's a line; in 3D, it's a plane.\n",
        "- **Support Vectors:** Data points that are closest to the hyperplane and influence its position and orientation. These points help in maximizing the margin of the classifier.\n",
        "- **Margin:** The distance between the hyperplane and the closest data points from either class. SVM aims to maximize this margin.\n",
        "\n",
        "### Why Use SVM?\n",
        "\n",
        "- **Effective in high-dimensional spaces:** SVM is very effective when the number of features is large.\n",
        "- **Memory efficient:** It uses a subset of training points (support vectors) in the decision function, making it memory efficient.\n",
        "- **Versatile:** Different kernel functions can be specified for the decision function. Common kernels include linear, polynomial, and radial basis function (RBF).\n",
        "\n",
        "### What does `SVC(kernel='linear')` mean?\n",
        "\n",
        "`SVC` stands for Support Vector Classification, which is a class in the Scikit-Learn library used to implement the SVM algorithm for classification tasks. The `kernel` parameter in the `SVC` class specifies the type of hyperplane used to separate the data.\n",
        "\n",
        "#### Kernel Types:\n",
        "\n",
        "- **Linear Kernel:** The data is linearly separable (i.e., a straight line or hyperplane can separate the data). This is the simplest kernel.\n",
        "  - When we use `SVC(kernel='linear')`, it means we are using a linear kernel for our SVM. This kernel is appropriate when the data can be separated by a straight line (or hyperplane in higher dimensions).\n",
        "- **Polynomial Kernel:** The data is not linearly separable, but a polynomial function of the input features can separate the data.\n",
        "- **Radial Basis Function (RBF) Kernel:** The data is not linearly separable, but mapping the data into a higher-dimensional space using a Gaussian (RBF) function can separate the data.\n",
        "\n",
        "### Training the SVM Model\n",
        "\n",
        "We will use a Support Vector Machine (SVM) classifier from Scikit-Learn to train our model on the extracted features.\n"
      ]
    },
    {
      "cell_type": "code",
      "execution_count": null,
      "metadata": {
        "id": "SUQI5I8tYBBy"
      },
      "outputs": [],
      "source": [
        "# Train an SVM classifier\n",
        "model = SVC(kernel='linear')\n",
        "model.fit(X_train, y_train)\n",
        "\n",
        "# Predict on the test set\n",
        "y_pred = model.predict(X_test)\n",
        "\n",
        "# Evaluate the model\n",
        "print(\"Accuracy:\", accuracy_score(y_test, y_pred))\n",
        "print(\"Classification Report:\\n\", classification_report(y_test, y_pred))\n"
      ]
    },
    {
      "cell_type": "markdown",
      "metadata": {
        "id": "lk3U1G3kYBBy"
      },
      "source": [
        "## Step 6: Conclusion\n",
        "\n",
        "In this notebook, we:\n",
        "1. Loaded and preprocessed images using OpenCV.\n",
        "2. Extracted features by flattening the grayscale images.\n",
        "3. Trained an SVM classifier on the extracted features.\n",
        "4. Evaluated the model's performance.\n",
        "\n",
        "This is a basic introduction to image classification using classical machine learning techniques. For more advanced applications, consider exploring deep learning models like Convolutional Neural Networks (CNNs) using libraries such as TensorFlow or PyTorch.\n",
        "\n"
      ]
    }
  ],
  "metadata": {
    "language_info": {
      "name": "python"
    },
    "colab": {
      "provenance": []
    },
    "kernelspec": {
      "name": "python3",
      "display_name": "Python 3"
    }
  },
  "nbformat": 4,
  "nbformat_minor": 0
}