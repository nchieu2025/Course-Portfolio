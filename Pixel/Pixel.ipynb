{
  "nbformat": 4,
  "nbformat_minor": 0,
  "metadata": {
    "colab": {
      "provenance": []
    },
    "kernelspec": {
      "name": "python3",
      "display_name": "Python 3"
    },
    "language_info": {
      "name": "python"
    }
  },
  "cells": [
    {
      "cell_type": "code",
      "execution_count": null,
      "metadata": {
        "colab": {
          "base_uri": "https://localhost:8080/",
          "height": 422
        },
        "id": "nnPDox7yKBe9",
        "outputId": "f03168e2-9506-4171-f86e-e08cf93fbf37"
      },
      "outputs": [
        {
          "output_type": "display_data",
          "data": {
            "text/plain": [
              "<Figure size 500x500 with 1 Axes>"
            ],
            "image/png": "[encoded data removed]"
          },
          "metadata": {}
        }
      ],
      "source": [
        "import numpy as np\n",
        "import matplotlib.pyplot as plt\n",
        "\n",
        "# Define the pixel grid (10x10 example)\n",
        "pixel_art = np.array([\n",
        "    [0, 0, 1, 1, 1, 1, 1, 0, 0, 0],\n",
        "    [0, 1, 2, 2, 2, 2, 2, 1, 0, 0],\n",
        "    [1, 2, 2, 3, 3, 3, 2, 2, 1, 0],\n",
        "    [1, 2, 3, 3, 4, 3, 3, 2, 1, 0],\n",
        "    [1, 2, 3, 4, 4, 4, 3, 2, 1, 0],\n",
        "    [1, 2, 3, 3, 4, 3, 3, 2, 1, 0],\n",
        "    [1, 2, 2, 3, 3, 3, 2, 2, 1, 0],\n",
        "    [0, 1, 2, 2, 2, 2, 2, 1, 0, 0],\n",
        "    [0, 0, 1, 1, 1, 1, 1, 0, 0, 0],\n",
        "    [0, 0, 0, 0, 0, 0, 0, 0, 0, 0]\n",
        "])\n",
        "\n",
        "# Define a colormap for the pixels\n",
        "colors = {\n",
        "    0: [1, 1, 1],  # White\n",
        "    1: [0, 0, 0],  # Black\n",
        "    2: [0.5, 0.5, 0.5],  # Gray\n",
        "    3: [1, 0, 0],  # Red\n",
        "    4: [1, 1, 0],  # Yellow\n",
        "}\n",
        "\n",
        "# Convert the pixel grid to an RGB image\n",
        "image = np.array([[colors[pixel] for pixel in row] for row in pixel_art])\n",
        "\n",
        "# Display the image\n",
        "plt.figure(figsize=(5, 5))\n",
        "plt.imshow(image)\n",
        "plt.axis('off')  # Hide axes\n",
        "plt.show()\n"
      ]
    }
  ]
}