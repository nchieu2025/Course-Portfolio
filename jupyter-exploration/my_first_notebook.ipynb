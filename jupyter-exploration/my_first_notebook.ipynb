{
  "nbformat": 4,
  "nbformat_minor": 0,
  "metadata": {
    "colab": {
      "provenance": []
    },
    "kernelspec": {
      "name": "python3",
      "display_name": "Python 3"
    },
    "language_info": {
      "name": "python"
    }
  },
  "cells": [
    {
      "cell_type": "code",
      "execution_count": 1,
      "metadata": {
        "id": "sNr2xFhMYbZo"
      },
      "outputs": [],
      "source": [
        "# My first markdown cell in googlecollab"
      ]
    },
    {
      "cell_type": "code",
      "source": [
        "print(\"Hello,World!\")"
      ],
      "metadata": {
        "colab": {
          "base_uri": "https://localhost:8080/"
        },
        "id": "Odwv8PIzZsaJ",
        "outputId": "b0c8f9cb-aed4-4745-fbd0-45e56502afef"
      },
      "execution_count": 2,
      "outputs": [
        {
          "output_type": "stream",
          "name": "stdout",
          "text": [
            "Hello,World!\n"
          ]
        }
      ]
    }
  ]
}